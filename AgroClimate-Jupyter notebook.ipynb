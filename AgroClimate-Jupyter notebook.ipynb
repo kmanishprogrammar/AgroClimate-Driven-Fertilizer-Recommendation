{
 "cells": [
  {
   "cell_type": "code",
   "execution_count": 76,
   "id": "54f89b2e-d0f2-4e60-b0c3-cc8ac41b40d1",
   "metadata": {},
   "outputs": [],
   "source": [
    "import numpy as np\n",
    "import pandas as pd\n",
    "from sklearn.preprocessing import StandardScaler, LabelEncoder\n",
    "from sklearn.impute import SimpleImputer\n",
    "import seaborn as sns\n",
    "import matplotlib.pyplot as plt"
   ]
  },
  {
   "cell_type": "code",
   "execution_count": 77,
   "id": "ed24b7ef-e9d2-4a6f-821e-2edc99beeb59",
   "metadata": {},
   "outputs": [
    {
     "data": {
      "text/html": [
       "<div>\n",
       "<style scoped>\n",
       "    .dataframe tbody tr th:only-of-type {\n",
       "        vertical-align: middle;\n",
       "    }\n",
       "\n",
       "    .dataframe tbody tr th {\n",
       "        vertical-align: top;\n",
       "    }\n",
       "\n",
       "    .dataframe thead th {\n",
       "        text-align: right;\n",
       "    }\n",
       "</style>\n",
       "<table border=\"1\" class=\"dataframe\">\n",
       "  <thead>\n",
       "    <tr style=\"text-align: right;\">\n",
       "      <th></th>\n",
       "      <th>Crop</th>\n",
       "      <th>Temperature</th>\n",
       "      <th>Humidity</th>\n",
       "      <th>Rainfall</th>\n",
       "      <th>Label_N</th>\n",
       "      <th>Label_P</th>\n",
       "      <th>Label_K</th>\n",
       "    </tr>\n",
       "  </thead>\n",
       "  <tbody>\n",
       "    <tr>\n",
       "      <th>0</th>\n",
       "      <td>rice</td>\n",
       "      <td>20.879744</td>\n",
       "      <td>82.002744</td>\n",
       "      <td>202.935536</td>\n",
       "      <td>90</td>\n",
       "      <td>42</td>\n",
       "      <td>43</td>\n",
       "    </tr>\n",
       "    <tr>\n",
       "      <th>1</th>\n",
       "      <td>rice</td>\n",
       "      <td>21.770462</td>\n",
       "      <td>80.319644</td>\n",
       "      <td>226.655537</td>\n",
       "      <td>85</td>\n",
       "      <td>58</td>\n",
       "      <td>41</td>\n",
       "    </tr>\n",
       "    <tr>\n",
       "      <th>2</th>\n",
       "      <td>rice</td>\n",
       "      <td>23.004459</td>\n",
       "      <td>82.320763</td>\n",
       "      <td>263.964248</td>\n",
       "      <td>60</td>\n",
       "      <td>55</td>\n",
       "      <td>44</td>\n",
       "    </tr>\n",
       "    <tr>\n",
       "      <th>3</th>\n",
       "      <td>rice</td>\n",
       "      <td>26.491096</td>\n",
       "      <td>80.158363</td>\n",
       "      <td>242.864034</td>\n",
       "      <td>74</td>\n",
       "      <td>35</td>\n",
       "      <td>40</td>\n",
       "    </tr>\n",
       "    <tr>\n",
       "      <th>4</th>\n",
       "      <td>rice</td>\n",
       "      <td>20.130175</td>\n",
       "      <td>81.604873</td>\n",
       "      <td>262.717340</td>\n",
       "      <td>78</td>\n",
       "      <td>42</td>\n",
       "      <td>42</td>\n",
       "    </tr>\n",
       "    <tr>\n",
       "      <th>...</th>\n",
       "      <td>...</td>\n",
       "      <td>...</td>\n",
       "      <td>...</td>\n",
       "      <td>...</td>\n",
       "      <td>...</td>\n",
       "      <td>...</td>\n",
       "      <td>...</td>\n",
       "    </tr>\n",
       "    <tr>\n",
       "      <th>2195</th>\n",
       "      <td>coffee</td>\n",
       "      <td>26.774637</td>\n",
       "      <td>66.413269</td>\n",
       "      <td>177.774507</td>\n",
       "      <td>107</td>\n",
       "      <td>34</td>\n",
       "      <td>32</td>\n",
       "    </tr>\n",
       "    <tr>\n",
       "      <th>2196</th>\n",
       "      <td>coffee</td>\n",
       "      <td>27.417112</td>\n",
       "      <td>56.636362</td>\n",
       "      <td>127.924610</td>\n",
       "      <td>99</td>\n",
       "      <td>15</td>\n",
       "      <td>27</td>\n",
       "    </tr>\n",
       "    <tr>\n",
       "      <th>2197</th>\n",
       "      <td>coffee</td>\n",
       "      <td>24.131797</td>\n",
       "      <td>67.225123</td>\n",
       "      <td>173.322839</td>\n",
       "      <td>118</td>\n",
       "      <td>33</td>\n",
       "      <td>30</td>\n",
       "    </tr>\n",
       "    <tr>\n",
       "      <th>2198</th>\n",
       "      <td>coffee</td>\n",
       "      <td>26.272418</td>\n",
       "      <td>52.127394</td>\n",
       "      <td>127.175293</td>\n",
       "      <td>117</td>\n",
       "      <td>32</td>\n",
       "      <td>34</td>\n",
       "    </tr>\n",
       "    <tr>\n",
       "      <th>2199</th>\n",
       "      <td>coffee</td>\n",
       "      <td>23.603016</td>\n",
       "      <td>60.396475</td>\n",
       "      <td>140.937041</td>\n",
       "      <td>104</td>\n",
       "      <td>18</td>\n",
       "      <td>30</td>\n",
       "    </tr>\n",
       "  </tbody>\n",
       "</table>\n",
       "<p>2200 rows × 7 columns</p>\n",
       "</div>"
      ],
      "text/plain": [
       "        Crop  Temperature   Humidity    Rainfall  Label_N  Label_P  Label_K\n",
       "0       rice    20.879744  82.002744  202.935536       90       42       43\n",
       "1       rice    21.770462  80.319644  226.655537       85       58       41\n",
       "2       rice    23.004459  82.320763  263.964248       60       55       44\n",
       "3       rice    26.491096  80.158363  242.864034       74       35       40\n",
       "4       rice    20.130175  81.604873  262.717340       78       42       42\n",
       "...      ...          ...        ...         ...      ...      ...      ...\n",
       "2195  coffee    26.774637  66.413269  177.774507      107       34       32\n",
       "2196  coffee    27.417112  56.636362  127.924610       99       15       27\n",
       "2197  coffee    24.131797  67.225123  173.322839      118       33       30\n",
       "2198  coffee    26.272418  52.127394  127.175293      117       32       34\n",
       "2199  coffee    23.603016  60.396475  140.937041      104       18       30\n",
       "\n",
       "[2200 rows x 7 columns]"
      ]
     },
     "execution_count": 77,
     "metadata": {},
     "output_type": "execute_result"
    }
   ],
   "source": [
    "df=pd.read_csv(\"Nutrient_recommendation.csv\")\n",
    "df"
   ]
  },
  {
   "cell_type": "code",
   "execution_count": 78,
   "id": "8ba29b62-b3ef-4ccb-b258-5cad66a86710",
   "metadata": {},
   "outputs": [
    {
     "name": "stdout",
     "output_type": "stream",
     "text": [
      "<class 'pandas.core.frame.DataFrame'>\n",
      "RangeIndex: 2200 entries, 0 to 2199\n",
      "Data columns (total 7 columns):\n",
      " #   Column       Non-Null Count  Dtype  \n",
      "---  ------       --------------  -----  \n",
      " 0   Crop         2200 non-null   object \n",
      " 1   Temperature  2200 non-null   float64\n",
      " 2   Humidity     2200 non-null   float64\n",
      " 3   Rainfall     2200 non-null   float64\n",
      " 4   Label_N      2200 non-null   int64  \n",
      " 5   Label_P      2200 non-null   int64  \n",
      " 6   Label_K      2200 non-null   int64  \n",
      "dtypes: float64(3), int64(3), object(1)\n",
      "memory usage: 120.4+ KB\n"
     ]
    }
   ],
   "source": [
    "df.info()"
   ]
  },
  {
   "cell_type": "code",
   "execution_count": 79,
   "id": "dadba51e-5535-437f-88f9-534946b5546f",
   "metadata": {},
   "outputs": [
    {
     "data": {
      "image/png": "[encoded data removed]",
      "text/plain": [
       "<Figure size 1200x600 with 1 Axes>"
      ]
     },
     "metadata": {},
     "output_type": "display_data"
    },
    {
     "data": {
      "image/png": "[encoded data removed]",
      "text/plain": [
       "<Figure size 1200x600 with 1 Axes>"
      ]
     },
     "metadata": {},
     "output_type": "display_data"
    },
    {
     "name": "stdout",
     "output_type": "stream",
     "text": [
      "X_train: (1459, 4)\n",
      "X_test: (365, 4)\n",
      "y_train: (1459, 3)\n",
      "y_test: (365, 3)\n"
     ]
    }
   ],
   "source": [
    "import pandas as pd\n",
    "import seaborn as sns\n",
    "import matplotlib.pyplot as plt\n",
    "from sklearn.impute import SimpleImputer\n",
    "from sklearn.model_selection import train_test_split\n",
    "\n",
    "# Replace zero 'Label_N' with the median nitrogen value for the same crop\n",
    "df.loc[:, 'Label_N'] = df.groupby('Crop')['Label_N'].transform(lambda X: X.replace(0, X.median()))\n",
    "\n",
    "# Impute numerical features\n",
    "numerical_cols = ['Temperature', 'Humidity', 'Rainfall', 'Label_N', 'Label_P', 'Label_K']\n",
    "num_imputer = SimpleImputer(strategy='mean')\n",
    "df.loc[:, numerical_cols] = num_imputer.fit_transform(df[numerical_cols])\n",
    "\n",
    "# Impute categorical features\n",
    "categorical_cols = ['Crop']\n",
    "cat_imputer = SimpleImputer(strategy='most_frequent')\n",
    "df.loc[:, categorical_cols] = cat_imputer.fit_transform(df[categorical_cols])\n",
    "\n",
    "# Prepare combined DataFrame for outlier detection\n",
    "df_combined = df.copy()\n",
    "\n",
    "# Identify numerical columns (including Labels)\n",
    "numerical_cols = df_combined.select_dtypes(include=['number']).columns.tolist()\n",
    "\n",
    "# Boxplot before outlier removal\n",
    "plt.figure(figsize=(12, 6))\n",
    "sns.boxplot(data=df_combined[numerical_cols])\n",
    "plt.title(\"Boxplot Before Outlier Removal\")\n",
    "plt.xticks(rotation=45)\n",
    "plt.show()\n",
    "\n",
    "# Compute IQR for outlier detection\n",
    "Q1 = df_combined[numerical_cols].quantile(0.25)\n",
    "Q3 = df_combined[numerical_cols].quantile(0.75)\n",
    "IQR = Q3 - Q1\n",
    "\n",
    "# Define lower and upper bounds\n",
    "lower_bound = Q1 - 1.5 * IQR\n",
    "upper_bound = Q3 + 1.5 * IQR\n",
    "\n",
    "# Filter out outliers for all numerical columns\n",
    "outlier_mask = ~((df_combined[numerical_cols] < lower_bound) | (df_combined[numerical_cols] > upper_bound)).any(axis=1)\n",
    "df_cleaned = df_combined[outlier_mask]\n",
    "\n",
    "# Boxplot after outlier removal\n",
    "plt.figure(figsize=(12, 6))\n",
    "sns.boxplot(data=df_cleaned[numerical_cols])\n",
    "plt.title(\"Boxplot After Outlier Removal\")\n",
    "plt.xticks(rotation=45)\n",
    "plt.show()\n",
    "\n",
    "# Final cleaned X and y using .values\n",
    "X = df_cleaned.iloc[:, :-3]  # All features\n",
    "y = df_cleaned.iloc[:, -3:].values  # Last 3 columns: Label_N, Label_P, Label_K\n",
    "\n",
    "# Train-test split\n",
    "X_train, X_test, y_train, y_test = train_test_split(X, y, test_size=0.20, random_state=42)\n",
    "\n",
    "# Check shapes\n",
    "print(\"X_train:\", X_train.shape)\n",
    "print(\"X_test:\", X_test.shape)\n",
    "print(\"y_train:\", y_train.shape)\n",
    "print(\"y_test:\", y_test.shape)\n"
   ]
  },
  {
   "cell_type": "code",
   "execution_count": 80,
   "id": "1e3c5233-4328-422d-b77e-abeaec0ffaa0",
   "metadata": {},
   "outputs": [
    {
     "name": "stdout",
     "output_type": "stream",
     "text": [
      "{'apple': 1, 'banana': 2, 'blackgram': 3, 'chickpea': 4, 'coconut': 5, 'coffee': 6, 'cotton': 7, 'grapes': 8, 'jute': 9, 'kidneybeans': 10, 'lentil': 11, 'maize': 12, 'mango': 13, 'mothbeans': 14, 'mungbean': 15, 'muskmelon': 16, 'orange': 17, 'papaya': 18, 'pigeonpeas': 19, 'pomegranate': 20, 'rice': 21, 'watermelon': 22, 'NA': nan}\n"
     ]
    }
   ],
   "source": [
    "# create mapping of crop(string) to int type\n",
    "mapping = dict()\n",
    "\n",
    "# writing the mapping in a file\n",
    "with open(\"mapped_crops.csv\", \"w\") as fh:\n",
    "    fh.write(\"Crops,Key\\n\")\n",
    "    for i, crop in enumerate(np.unique(df[['Crop']]), 1):\n",
    "        mapping[crop] =  i\n",
    "        fh.write(\"%s,%d\\n\" % (crop, i))\n",
    "    mapping['NA'] = np.nan\n",
    "    fh.write(\"NA,nan\")\n",
    "    \n",
    "print(mapping)"
   ]
  },
  {
   "cell_type": "code",
   "execution_count": 81,
   "id": "54754616-101c-4c92-9826-25e2fb9d2fee",
   "metadata": {},
   "outputs": [
    {
     "data": {
      "text/html": [
       "<div>\n",
       "<style scoped>\n",
       "    .dataframe tbody tr th:only-of-type {\n",
       "        vertical-align: middle;\n",
       "    }\n",
       "\n",
       "    .dataframe tbody tr th {\n",
       "        vertical-align: top;\n",
       "    }\n",
       "\n",
       "    .dataframe thead th {\n",
       "        text-align: right;\n",
       "    }\n",
       "</style>\n",
       "<table border=\"1\" class=\"dataframe\">\n",
       "  <thead>\n",
       "    <tr style=\"text-align: right;\">\n",
       "      <th></th>\n",
       "      <th>Crop</th>\n",
       "      <th>Temperature</th>\n",
       "      <th>Humidity</th>\n",
       "      <th>Rainfall</th>\n",
       "    </tr>\n",
       "  </thead>\n",
       "  <tbody>\n",
       "    <tr>\n",
       "      <th>957</th>\n",
       "      <td>20</td>\n",
       "      <td>19.861736</td>\n",
       "      <td>86.197409</td>\n",
       "      <td>111.021793</td>\n",
       "    </tr>\n",
       "    <tr>\n",
       "      <th>1120</th>\n",
       "      <td>13</td>\n",
       "      <td>28.932702</td>\n",
       "      <td>47.940540</td>\n",
       "      <td>99.983424</td>\n",
       "    </tr>\n",
       "    <tr>\n",
       "      <th>255</th>\n",
       "      <td>4</td>\n",
       "      <td>17.574456</td>\n",
       "      <td>16.718266</td>\n",
       "      <td>77.818914</td>\n",
       "    </tr>\n",
       "    <tr>\n",
       "      <th>390</th>\n",
       "      <td>10</td>\n",
       "      <td>16.037686</td>\n",
       "      <td>22.331959</td>\n",
       "      <td>130.390080</td>\n",
       "    </tr>\n",
       "    <tr>\n",
       "      <th>1344</th>\n",
       "      <td>22</td>\n",
       "      <td>24.067315</td>\n",
       "      <td>81.640753</td>\n",
       "      <td>51.752124</td>\n",
       "    </tr>\n",
       "  </tbody>\n",
       "</table>\n",
       "</div>"
      ],
      "text/plain": [
       "      Crop  Temperature   Humidity    Rainfall\n",
       "957     20    19.861736  86.197409  111.021793\n",
       "1120    13    28.932702  47.940540   99.983424\n",
       "255      4    17.574456  16.718266   77.818914\n",
       "390     10    16.037686  22.331959  130.390080\n",
       "1344    22    24.067315  81.640753   51.752124"
      ]
     },
     "execution_count": 81,
     "metadata": {},
     "output_type": "execute_result"
    }
   ],
   "source": [
    "# import category encoders\n",
    "import category_encoders as ce\n",
    "\n",
    "ordinal_cols_mapping = [{\"col\": \"Crop\", \"mapping\": mapping}, ]\n",
    "\n",
    "# encode categorical variables with ordinal encoding\n",
    "encoder = ce.OrdinalEncoder(cols = 'Crop', mapping = ordinal_cols_mapping, return_df = True)\n",
    "\n",
    "X_train = encoder.fit_transform(X_train)\n",
    "X_test = encoder.transform(X_test)\n",
    "X_train.head()"
   ]
  },
  {
   "cell_type": "markdown",
   "id": "4aafc638-3c54-4a45-8d71-9eb509e6874a",
   "metadata": {},
   "source": [
    "#  Multiple Linear Regression"
   ]
  },
  {
   "cell_type": "code",
   "execution_count": 82,
   "id": "de8f4fc1-4120-497f-b555-33cbdd13830a",
   "metadata": {},
   "outputs": [
    {
     "name": "stdout",
     "output_type": "stream",
     "text": [
      "Linear Regression MAE: 19.3147\n",
      "MSE: 608.2005\n",
      "RMSE: 24.6617\n",
      "R² Score: 0.1552\n"
     ]
    }
   ],
   "source": [
    "from sklearn.linear_model import LinearRegression\n",
    "from sklearn.metrics import mean_absolute_error, mean_squared_error, r2_score\n",
    "\n",
    "model = LinearRegression()\n",
    "model.fit(X_train, y_train)\n",
    "y_pred = model.predict(X_test)\n",
    "\n",
    "mae = mean_absolute_error(y_test, y_pred)\n",
    "mse = mean_squared_error(y_test, y_pred)\n",
    "rmse = np.sqrt(mse)\n",
    "r2 = r2_score(y_test, y_pred)\n",
    "\n",
    "print(f\"Linear Regression MAE: {mae:.4f}\")\n",
    "print(f\"MSE: {mse:.4f}\")\n",
    "print(f\"RMSE: {rmse:.4f}\")\n",
    "print(f\"R² Score: {r2:.4f}\")\n"
   ]
  },
  {
   "cell_type": "code",
   "execution_count": 83,
   "id": "80bc5748-698e-4d90-b3e1-2cd0936d6329",
   "metadata": {},
   "outputs": [],
   "source": [
    "from sklearn.multioutput import MultiOutputRegressor\n",
    "from sklearn.neighbors import KNeighborsRegressor\n",
    "from sklearn.tree import DecisionTreeRegressor\n",
    "from sklearn.svm import SVR\n",
    "from xgboost import XGBRegressor\n",
    "from sklearn.metrics import mean_absolute_error, mean_squared_error, r2_score\n",
    "import numpy as np\n",
    "\n",
    "def evaluate_model(model, X_train, y_train, X_test, y_test):\n",
    "    model.fit(X_train, y_train)\n",
    "    y_pred = model.predict(X_test)\n",
    "    mae = mean_absolute_error(y_test, y_pred)\n",
    "    mse = mean_squared_error(y_test, y_pred)\n",
    "    rmse = np.sqrt(mse)\n",
    "    r2 = r2_score(y_test, y_pred)\n",
    "    print(f\"MAE: {mae:.4f} | MSE: {mse:.4f} | RMSE: {rmse:.4f} | R² Score: {r2:.4f}\")"
   ]
  },
  {
   "cell_type": "markdown",
   "id": "e786a7c9-26a2-4392-a243-4f680c7d178b",
   "metadata": {},
   "source": [
    "# KNN"
   ]
  },
  {
   "cell_type": "code",
   "execution_count": 84,
   "id": "98fe8756-05fd-4057-9b2d-83ec35790693",
   "metadata": {},
   "outputs": [
    {
     "name": "stdout",
     "output_type": "stream",
     "text": [
      "K-Nearest Neighbors Regression:\n",
      "MAE: 7.1996 | MSE: 98.8379 | RMSE: 9.9417 | R² Score: 0.8686\n"
     ]
    }
   ],
   "source": [
    "print(\"K-Nearest Neighbors Regression:\")\n",
    "knn_model = MultiOutputRegressor(KNeighborsRegressor(n_neighbors=5))\n",
    "evaluate_model(knn_model, X_train, y_train, X_test, y_test)"
   ]
  },
  {
   "cell_type": "markdown",
   "id": "bd495add-9902-4f01-b14d-9d4d87d35767",
   "metadata": {},
   "source": [
    "# Decision Tree"
   ]
  },
  {
   "cell_type": "code",
   "execution_count": 85,
   "id": "1bf22950-446a-4407-9ad2-8000b61c8a40",
   "metadata": {},
   "outputs": [
    {
     "name": "stdout",
     "output_type": "stream",
     "text": [
      "Decision Tree Regression:\n",
      "MAE: 8.7826 | MSE: 148.6461 | RMSE: 12.1921 | R² Score: 0.8047\n"
     ]
    }
   ],
   "source": [
    "print(\"Decision Tree Regression:\")\n",
    "dt_model = MultiOutputRegressor(DecisionTreeRegressor(random_state=42))\n",
    "evaluate_model(dt_model, X_train, y_train, X_test, y_test)"
   ]
  },
  {
   "cell_type": "markdown",
   "id": "789cadfe-82a2-4a97-935e-7b83ba7f68b2",
   "metadata": {},
   "source": [
    "# SVM"
   ]
  },
  {
   "cell_type": "code",
   "execution_count": 100,
   "id": "3352175f-be60-42de-ae1b-a16be28725ac",
   "metadata": {},
   "outputs": [
    {
     "name": "stdout",
     "output_type": "stream",
     "text": [
      "Support Vector Regression:\n",
      "MAE: 7.9896 | MSE: 118.5553 | RMSE: 10.8883 | R² Score: 0.8480\n"
     ]
    }
   ],
   "source": [
    "from sklearn.pipeline import make_pipeline\n",
    "print(\"Support Vector Regression:\")\n",
    "svr_base = make_pipeline(\n",
    "    StandardScaler(), \n",
    "    SVR(kernel='rbf', C=100, epsilon=0.1, gamma='scale')\n",
    ")\n",
    "svr_model = MultiOutputRegressor(svr_base)\n",
    "evaluate_model(svr_model, X_train, y_train, X_test, y_test)"
   ]
  },
  {
   "cell_type": "markdown",
   "id": "e28160d0-76aa-4c37-9c41-31a72f20f052",
   "metadata": {},
   "source": [
    "# XGBoost"
   ]
  },
  {
   "cell_type": "code",
   "execution_count": 87,
   "id": "77423cbe-4193-4529-aca1-52ffc8222e3b",
   "metadata": {},
   "outputs": [
    {
     "name": "stdout",
     "output_type": "stream",
     "text": [
      "XGBoost Regression:\n",
      "MAE: 7.1126 | MSE: 92.4307 | RMSE: 9.6141 | R² Score: 0.8777\n"
     ]
    }
   ],
   "source": [
    "print(\"XGBoost Regression:\")\n",
    "xgb_model = MultiOutputRegressor(XGBRegressor(objective='reg:squarederror', random_state=42))\n",
    "evaluate_model(xgb_model, X_train, y_train, X_test, y_test)"
   ]
  },
  {
   "cell_type": "markdown",
   "id": "94f82fd7-e39a-4cf2-b558-0a4e9951a1da",
   "metadata": {},
   "source": [
    "# RandomForest"
   ]
  },
  {
   "cell_type": "code",
   "execution_count": 88,
   "id": "cd4e5ee6-f826-4734-afbb-adcbe5d693c6",
   "metadata": {},
   "outputs": [
    {
     "name": "stdout",
     "output_type": "stream",
     "text": [
      "Random Forest:\n",
      "MAE: 6.585196347031965\n",
      "MSE: 78.01557342465756\n",
      "RMSE: 8.832642493877897\n"
     ]
    }
   ],
   "source": [
    "from sklearn.ensemble import RandomForestRegressor\n",
    "from sklearn import metrics\n",
    "\n",
    "# Basic RF Model\n",
    "rf = RandomForestRegressor(n_estimators=50, random_state=0)\n",
    "rf.fit(X_train, y_train)\n",
    "y_pred = rf.predict(X_test)\n",
    "\n",
    "print(\"Random Forest:\")\n",
    "print('MAE:', metrics.mean_absolute_error(y_test, y_pred))\n",
    "print('MSE:', metrics.mean_squared_error(y_test, y_pred))\n",
    "print('RMSE:', np.sqrt(metrics.mean_squared_error(y_test, y_pred)))\n"
   ]
  },
  {
   "cell_type": "code",
   "execution_count": 89,
   "id": "a5411a46-9e49-4d36-9c8f-17524e5b687f",
   "metadata": {},
   "outputs": [
    {
     "data": {
      "image/png": "[encoded data removed]",
      "text/plain": [
       "<Figure size 640x480 with 1 Axes>"
      ]
     },
     "metadata": {},
     "output_type": "display_data"
    },
    {
     "name": "stdout",
     "output_type": "stream",
     "text": [
      "Most consistent model accuracy: 0.908\n"
     ]
    }
   ],
   "source": [
    "model = RandomForestRegressor(n_jobs=-1)\n",
    "estimators = np.arange(10, 200, 10)\n",
    "scores = []\n",
    "\n",
    "for n in estimators:\n",
    "    model.set_params(n_estimators=n)\n",
    "    model.fit(X_train, y_train)\n",
    "    scores.append(model.score(X_test, y_test))\n",
    "\n",
    "plt.title(\"Effect of n_estimators\")\n",
    "plt.xlabel(\"n_estimators\")\n",
    "plt.ylabel(\"R² Score\")\n",
    "plt.plot(estimators, scores)\n",
    "plt.show()\n",
    "\n",
    "# Most frequent score\n",
    "scores_arr = [round(s, 3) for s in scores]\n",
    "unique, counts = np.unique(scores_arr, return_counts=True)\n",
    "\n",
    "max_count = max(counts)\n",
    "accuracy = -1\n",
    "for uni, count in zip(unique, counts):\n",
    "    if count == max_count:\n",
    "        accuracy = uni\n",
    "\n",
    "print(\"Most consistent model accuracy: %.3f\" % accuracy)\n"
   ]
  },
  {
   "cell_type": "markdown",
   "id": "a5ba0ea1-d015-4c4c-864e-1f27aef50f4c",
   "metadata": {},
   "source": [
    "# NPKEstimator"
   ]
  },
  {
   "cell_type": "code",
   "execution_count": 90,
   "id": "2a493783-7983-4f95-b75b-0ef82c17780e",
   "metadata": {},
   "outputs": [],
   "source": [
    "import warnings\n",
    "import numpy as np \n",
    "import pandas as pd \n",
    "from sklearn import metrics\n",
    "import category_encoders as ce\n",
    "import matplotlib.pyplot as plt \n",
    "from sklearn.model_selection import train_test_split\n",
    "from sklearn.ensemble import RandomForestRegressor\n",
    "\n",
    "warnings.filterwarnings('ignore')"
   ]
  },
  {
   "cell_type": "code",
   "execution_count": 91,
   "id": "d56d2a50-9929-409a-b3bf-84d5326aadb1",
   "metadata": {},
   "outputs": [],
   "source": [
    "class NPKEstimator:\n",
    "    def __init__(self, data='Nutrient_recommendation.csv'):\n",
    "        self.df = pd.read_csv(data, header=None)\n",
    "        self.X_train = None\n",
    "        self.X_test = None\n",
    "        self.y_train = None\n",
    "        self.y_test = None\n",
    "        \n",
    "        self.renameCol()  # Rename columns\n",
    "        self.preprocess_data()  # Fix Label_N and remove outliers\n",
    "\n",
    "    def renameCol(self):\n",
    "        self.df.columns = ['Crop', 'Temperature', 'Humidity', 'Rainfall', 'Label_N', 'Label_P', 'Label_K']\n",
    "        self.df.drop(self.df.index[:1], inplace=True)\n",
    "\n",
    "    def preprocess_data(self):\n",
    "        \"\"\"Fix zero values in Label_N and remove outliers.\"\"\"\n",
    "        # Convert columns to numeric\n",
    "        self.df[['Temperature', 'Humidity', 'Rainfall', 'Label_N', 'Label_P', 'Label_K']] = \\\n",
    "            self.df[['Temperature', 'Humidity', 'Rainfall', 'Label_N', 'Label_P', 'Label_K']].apply(pd.to_numeric)\n",
    "\n",
    "        # Fix zero values in Label_N by replacing them with the median\n",
    "        median_n = self.df[self.df['Label_N'] > 0]['Label_N'].median()\n",
    "        self.df['Label_N'] = self.df['Label_N'].replace(0, median_n)\n",
    "\n",
    "        # Remove outliers using IQR\n",
    "        for col in ['Label_N', 'Label_P', 'Label_K']:\n",
    "            Q1 = self.df[col].quantile(0.25)\n",
    "            Q3 = self.df[col].quantile(0.75)\n",
    "            IQR = Q3 - Q1\n",
    "            lower_bound = Q1 - 1.5 * IQR\n",
    "            upper_bound = Q3 + 1.5 * IQR\n",
    "            self.df = self.df[(self.df[col] >= lower_bound) & (self.df[col] <= upper_bound)]\n",
    "    \n",
    "    def cropMapper(self):\n",
    "        mapping = dict()\n",
    "        with open(\"mapped_crops.csv\", \"w\") as fh:\n",
    "            fh.write(\"Crops,Key\\n\")\n",
    "            for i, crop in enumerate(np.unique(self.df[['Crop']]), 1):\n",
    "                mapping[crop] = i\n",
    "                fh.write(\"%s,%d\\n\" % (crop, i))\n",
    "            mapping['NA'] = np.nan\n",
    "            fh.write(\"NA,nan\")\n",
    "\n",
    "        ordinal_cols_mapping = [{\"col\": \"Crop\", \"mapping\": mapping}]\n",
    "        encoder = ce.OrdinalEncoder(cols='Crop', mapping=ordinal_cols_mapping, return_df=True)\n",
    "        return mapping, encoder\n",
    "    \n",
    "    def estimator(self, crop, temp, humidity, rainfall, y_label):\n",
    "        mapping, encoder = self.cropMapper()\n",
    "        self.df = encoder.fit_transform(self.df) \n",
    "        X = self.df.drop(['Label_N', 'Label_P', 'Label_K'], axis=1)\n",
    "        y = self.df[y_label]\n",
    "\n",
    "        self.X_train, self.X_test, self.y_train, self.y_test = train_test_split(X, y, test_size=0.20, random_state=42)\n",
    "\n",
    "        regressor = RandomForestRegressor(n_estimators=50, random_state=0)\n",
    "        regressor.fit(self.X_train, self.y_train)\n",
    "\n",
    "        query = [mapping[crop.strip().lower()], temp, humidity, rainfall]\n",
    "        y_pred = regressor.predict([query])\n",
    "        return y_pred"
   ]
  },
  {
   "cell_type": "code",
   "execution_count": 92,
   "id": "00351f4d-835e-41c9-a3b0-31ffc579c674",
   "metadata": {},
   "outputs": [
    {
     "name": "stdout",
     "output_type": "stream",
     "text": [
      "Label_N : 70.2\n"
     ]
    }
   ],
   "source": [
    "if __name__ == '__main__':\n",
    "    obj = NPKEstimator()\n",
    "    crop, temp, humidity, rainfall, y_label = 'rice', 21.94766735, 80.97384195, 213.3560921, 'Label_N'\n",
    "    res = obj.estimator(crop, temp, humidity, rainfall, y_label)\n",
    "    print(y_label, \":\", res[0])"
   ]
  },
  {
   "cell_type": "code",
   "execution_count": 93,
   "id": "2584adbb-4b9a-4f59-a23d-c6364024f1cc",
   "metadata": {},
   "outputs": [
    {
     "name": "stdout",
     "output_type": "stream",
     "text": [
      "Label_P : 52.18\n"
     ]
    }
   ],
   "source": [
    "if __name__ == '__main__':\n",
    "    obj = NPKEstimator()\n",
    "    crop, temp, humidity, rainfall, y_label = 'maize', 25.73044432, 70.74739256, 98.73771338, 'Label_P'\n",
    "    res = obj.estimator(crop, temp, humidity, rainfall, y_label)\n",
    "    print(y_label, \":\", res[0])"
   ]
  },
  {
   "cell_type": "code",
   "execution_count": 94,
   "id": "49c3e6df-5fba-45ca-9fa4-5de005c11b3d",
   "metadata": {},
   "outputs": [
    {
     "name": "stdout",
     "output_type": "stream",
     "text": [
      "Label_K : 78.28\n"
     ]
    }
   ],
   "source": [
    "if __name__ == '__main__':\n",
    "    obj = NPKEstimator()\n",
    "    crop, temp, humidity, rainfall, y_label = 'chickpea',17.02498456, 16.98861173, 88.55123143, 'Label_K'\n",
    "    res = obj.estimator(crop, temp, humidity, rainfall, y_label)\n",
    "    print(y_label, \":\", res[0])"
   ]
  },
  {
   "cell_type": "code",
   "execution_count": 95,
   "id": "3e9be4fa-b034-4e57-a404-c9e8c83f2459",
   "metadata": {},
   "outputs": [],
   "source": [
    "import requests as rq\n",
    "import json as js\n",
    "from time import sleep"
   ]
  },
  {
   "cell_type": "code",
   "execution_count": 96,
   "id": "0cd01b38-b2d2-4159-a029-a0ad815d8cc2",
   "metadata": {},
   "outputs": [],
   "source": [
    "class BestTimeToFertilize:\n",
    "    __BASE_URL = \"https://api.weatherbit.io/v2.0/forecast/daily?\"\n",
    "    __API_KEY = \"37e27412d34147158e47a8c133278f34\"\n",
    "    \n",
    "    \n",
    "    def __init__(self, city_name = 'Bangalore', state_name = 'Karnataka', days = 7):\n",
    "        self.city_name = '+'.join(city_name.lower().strip().split())\n",
    "        self.state_name = '+'.join(state_name.lower().strip().split())\n",
    "        self.country_name = 'IN'\n",
    "        self.days = days\n",
    "        self.response = None\n",
    "        self.response_code = None\n",
    "        self.weather_data = list()\n",
    "        \n",
    "    def api_caller(self):\n",
    "        try:\n",
    "            complete_url = \"{0}city={1}&state={2}&country={3}&key={4}&days={5}\".format(self.__BASE_URL, self.city_name, self.state_name, self.country_name, self.__API_KEY, self.days)\n",
    "            print(complete_url)\n",
    "            #while self.response == None:\n",
    "            self.response = rq.get(complete_url)\n",
    "            sleep(5)\n",
    "            self.response_code = self.response.status_code\n",
    "            return self.response_code\n",
    "        except Exception as msg:\n",
    "            print(\"api_caller():\", msg)\n",
    "            return -1\n",
    "        \n",
    "    \n",
    "    def is_api_call_success(self):\n",
    "        if self.response_code == 200:\n",
    "            return True\n",
    "        elif self.response_code == 204:\n",
    "            print('Content Not available, error code 204')\n",
    "        return False\n",
    "    \n",
    "\n",
    "    def json_file_bulider(self):\n",
    "        try:\n",
    "            json_obj = self.response.json()\n",
    "            with open('weather_data.json', 'w') as file:\n",
    "                js.dump(json_obj, file, indent = 1, sort_keys = True)\n",
    "            print(\"weather_data.json file build successfully\")\n",
    "        except Exception as msg:\n",
    "            print(\"json_bulider():\", msg)\n",
    "            \n",
    "    \n",
    "    def best_time_fertilize(self):\n",
    "        json_obj = self.response.json()\n",
    "        \n",
    "        print(\"City:\", json_obj['city_name'], \"\\n\")\n",
    "\n",
    "        prolonged_precip = 0\n",
    "        prolonged_prob = 0\n",
    "        heavy_rain_2d = False\n",
    "        heavy_rain_chance_2d = 0\n",
    "        precip_2d = 0\n",
    "        precip_chance_2d = 0\n",
    "        \n",
    "        for i in range(self.days):\n",
    "            date = json_obj['data'][i]['datetime']\n",
    "            temp = json_obj['data'][i]['temp']\n",
    "            rh = json_obj['data'][i]['rh']\n",
    "            precip = json_obj['data'][i]['precip']\n",
    "            prob = json_obj['data'][i]['pop']\n",
    "            w_code = json_obj['data'][i]['weather']['code']\n",
    "            w_desc = json_obj['data'][i]['weather']['description']\n",
    "            i_code = json_obj['data'][i]['weather']['icon']\n",
    "            prolonged_precip += precip\n",
    "            prolonged_prob += prob\n",
    "\n",
    "            count_2d = 0\n",
    "            if i < 2:\n",
    "                precip_2d += precip\n",
    "                precip_chance_2d += prob\n",
    "                if w_code in [202, 233, 502, 521, 522]:\n",
    "                    heavy_rain_2d = True\n",
    "                    heavy_rain_chance_2d += prob\n",
    "                    count_2d += 1\n",
    "                    heavy_rain_chance_2d //= count_2d\n",
    "            \n",
    "            di = {\n",
    "                  \"Date\": str(date), \n",
    "                  \"Temperature\": str(temp), \n",
    "                  \"Relative Humidity\": str(rh), \n",
    "                  \"Rainfall\": str(precip), \n",
    "                  \"Probability of Precipitation\": str(prob),\n",
    "                  \"Weather code\": str(w_code),\n",
    "                  \"Weather Description\": str(w_desc),\n",
    "                  \"Icon code\": str(i_code)\n",
    "                 }\n",
    "            self.weather_data.append(di)\n",
    "            \n",
    "            print(\"Date:\", date)\n",
    "            print(\"Temperature:\", temp)\n",
    "            print(\"Relative Humidity:\", rh)\n",
    "            print(\"Rainfall:\", precip)\n",
    "            print(\"Probability of Precipitation:\", prob)\n",
    "            print(\"Weather code:\", w_code, \"->\", w_desc)\n",
    "            print()\n",
    "\n",
    "        prolonged_prob //= self.days\n",
    "        precip_chance_2d //= 2\n",
    "\n",
    "        print(\"-\"*80)\n",
    "        print(\"The amount of rain for 2 days, counting today:\", precip_2d)\n",
    "        print(\"Chances of rain for 2 days, counting today:\", precip_chance_2d)\n",
    "        print()\n",
    "\n",
    "        if heavy_rain_2d:\n",
    "            print(\"*\"*21, \"Warning !!!\", \"*\"*21)\n",
    "            print(\"Heavy Rain Chances:\", heavy_rain_chance_2d)\n",
    "            print(\"Heavy Rainfall puts your fertilizer at risk.\")\n",
    "            print(\"*\"*21, \"Warning !!!\", \"*\"*21)\n",
    "\n",
    "        print(\"Prolonged Precipitation:\", prolonged_precip)\n",
    "        print(\"Prolonged Precipitation Probability:\", prolonged_prob)\n",
    "        print()\n",
    "\n",
    "        if prolonged_precip > 12.7 and prolonged_prob >= 50:\n",
    "            print(\"*\"*21, \"Warning !!!\", \"*\"*21)\n",
    "            print(\"Prolonged Rainfall of greater than 12.7 mm puts your fertilizer at risk.\")\n",
    "            print(\"*\"*21, \"Warning !!!\", \"*\"*21)"
   ]
  },
  {
   "cell_type": "code",
   "execution_count": 97,
   "id": "498417e2-3de9-4d27-90e7-e746c52a6e4c",
   "metadata": {},
   "outputs": [
    {
     "name": "stdout",
     "output_type": "stream",
     "text": [
      "https://api.weatherbit.io/v2.0/forecast/daily?city=bhubaneswar&state=odisha&country=IN&key=37e27412d34147158e47a8c133278f34&days=7\n",
      "200\n",
      "City: Bhubaneswar \n",
      "\n",
      "Date: 2025-04-07\n",
      "Temperature: 30.1\n",
      "Relative Humidity: 71\n",
      "Rainfall: 0.49023438\n",
      "Probability of Precipitation: 15\n",
      "Weather code: 801 -> Few clouds\n",
      "\n",
      "Date: 2025-04-08\n",
      "Temperature: 29.8\n",
      "Relative Humidity: 71\n",
      "Rainfall: 0.05078125\n",
      "Probability of Precipitation: 20\n",
      "Weather code: 801 -> Few clouds\n",
      "\n",
      "Date: 2025-04-09\n",
      "Temperature: 28.8\n",
      "Relative Humidity: 71\n",
      "Rainfall: 0.015625\n",
      "Probability of Precipitation: 20\n",
      "Weather code: 801 -> Few clouds\n",
      "\n",
      "Date: 2025-04-10\n",
      "Temperature: 28.9\n",
      "Relative Humidity: 71\n",
      "Rainfall: 0.22656155\n",
      "Probability of Precipitation: 20\n",
      "Weather code: 801 -> Few clouds\n",
      "\n",
      "Date: 2025-04-11\n",
      "Temperature: 29.8\n",
      "Relative Humidity: 70\n",
      "Rainfall: 0.09504795\n",
      "Probability of Precipitation: 20\n",
      "Weather code: 801 -> Few clouds\n",
      "\n",
      "Date: 2025-04-12\n",
      "Temperature: 29.4\n",
      "Relative Humidity: 75\n",
      "Rainfall: 0.0625\n",
      "Probability of Precipitation: 20\n",
      "Weather code: 803 -> Broken clouds\n",
      "\n",
      "Date: 2025-04-13\n",
      "Temperature: 30.6\n",
      "Relative Humidity: 56\n",
      "Rainfall: 13.4375\n",
      "Probability of Precipitation: 80\n",
      "Weather code: 201 -> Thunderstorm with rain\n",
      "\n",
      "--------------------------------------------------------------------------------\n",
      "The amount of rain for 2 days, counting today: 0.54101563\n",
      "Chances of rain for 2 days, counting today: 17\n",
      "\n",
      "Prolonged Precipitation: 14.37825013\n",
      "Prolonged Precipitation Probability: 27\n",
      "\n",
      "weather_data.json file build successfully\n"
     ]
    }
   ],
   "source": [
    "if __name__ == '__main__':\n",
    "    obj = BestTimeToFertilize('Bhubaneswar', 'Odisha')\n",
    "    print(obj.api_caller())\n",
    "    if obj.is_api_call_success():\n",
    "        obj.best_time_fertilize()\n",
    "        obj.json_file_bulider()\n",
    "#         print(obj.weather_data)"
   ]
  },
  {
   "cell_type": "code",
   "execution_count": null,
   "id": "69481151-6853-4a15-a2df-476efc988295",
   "metadata": {},
   "outputs": [],
   "source": []
  },
  {
   "cell_type": "code",
   "execution_count": null,
   "id": "cc0571bc-39ae-4b4c-96fd-a0090466c792",
   "metadata": {},
   "outputs": [],
   "source": []
  }
 ],
 "metadata": {
  "kernelspec": {
   "display_name": "Python 3 (ipykernel)",
   "language": "python",
   "name": "python3"
  },
  "language_info": {
   "codemirror_mode": {
    "name": "ipython",
    "version": 3
   },
   "file_extension": ".py",
   "mimetype": "text/x-python",
   "name": "python",
   "nbconvert_exporter": "python",
   "pygments_lexer": "ipython3",
   "version": "3.11.7"
  }
 },
 "nbformat": 4,
 "nbformat_minor": 5
}
